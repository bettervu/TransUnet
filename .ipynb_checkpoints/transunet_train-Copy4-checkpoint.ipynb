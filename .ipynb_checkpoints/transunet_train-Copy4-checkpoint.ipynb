{
 "cells": [
  {
   "cell_type": "markdown",
   "id": "54b33739",
   "metadata": {},
   "source": [
    "# Run this code block to install dependencies"
   ]
  },
  {
   "cell_type": "code",
   "execution_count": 1,
   "id": "b319badd",
   "metadata": {},
   "outputs": [],
   "source": [
    "# !git clone https://github.com/KenzaB27/TransUnet.git\n",
    "# %cd TransUnet\n",
    "# !pip install -r requirements.txt \n",
    "# %cd .."
   ]
  },
  {
   "cell_type": "code",
   "execution_count": 2,
   "id": "eb2dbece",
   "metadata": {},
   "outputs": [
    {
     "name": "stdout",
     "output_type": "stream",
     "text": [
      "/Users/srinathramalingam/Desktop/codebase/TransUnet/TransUnet\n",
      "/Users/srinathramalingam/Desktop/codebase/TransUnet\n"
     ]
    }
   ],
   "source": [
    "%cd TransUnet\n",
    "import models.transunet as transunet\n",
    "import utils.visualize as visualize\n",
    "import experiments.config as conf\n",
    "import importlib\n",
    "%cd .."
   ]
  },
  {
   "cell_type": "code",
   "execution_count": 3,
   "id": "efa3e23b",
   "metadata": {},
   "outputs": [
    {
     "name": "stdout",
     "output_type": "stream",
     "text": [
      "Segmentation Models: using `tf.keras` framework.\n"
     ]
    }
   ],
   "source": [
    "import os\n",
    "import cv2\n",
    "import pickle\n",
    "import imageio\n",
    "import numpy as np\n",
    "from tqdm import tqdm\n",
    "import tensorflow as tf\n",
    "import tensorflow_addons as tfa\n",
    "import matplotlib.pyplot as plt\n",
    "from bp import Environment, String\n",
    "from focal_loss import BinaryFocalLoss\n",
    "from dTurk.generators import SemsegData\n",
    "from dTurk.builders import model_builder\n",
    "from tensorflow.keras import backend as K\n",
    "from dTurk.utils.clr_callback import CyclicLR\n",
    "from dTurk.metrics import MeanIoU, WeightedMeanIoU\n",
    "from tensorflow.keras.callbacks import ModelCheckpoint\n",
    "from dTurk.loaders.dataset_loader import SemsegDatasetLoader\n",
    "from tensorflow.keras.callbacks import TensorBoard, EarlyStopping\n",
    "from dTurk.augmentation.transforms import get_train_transform_policy, get_validation_transform_policy\n",
    "from dTurk.models.sm_models.losses import CategoricalCELoss, CategoricalFocalLoss, DiceLoss, JaccardLoss"
   ]
  },
  {
   "cell_type": "code",
   "execution_count": 4,
   "id": "dcfd2ba4",
   "metadata": {},
   "outputs": [],
   "source": [
    "import os\n",
    "import argparse\n",
    "import pandas as pd\n",
    "import tensorflow as tf\n",
    "from bp import Environment\n",
    "import TransUnet.experiments.config as conf\n",
    "from dTurk.utils.clr_callback import CyclicLR\n",
    "import TransUnet.models.transunet as transunet\n",
    "from tensorflow.keras.callbacks import TensorBoard, EarlyStopping\n",
    "from train_helpers import dice_loss, mean_iou, oversampling, create_dataset"
   ]
  },
  {
   "cell_type": "code",
   "execution_count": 5,
   "id": "001c8fca",
   "metadata": {},
   "outputs": [],
   "source": [
    "env = Environment()\n",
    "\n",
    "config = conf.get_transunet()\n",
    "config['image_size'] = 256\n",
    "config[\"filters\"] = 3\n",
    "config['n_skip'] = 3\n",
    "config['decoder_channels'] = [128, 64, 32, 16]\n",
    "config['resnet']['n_layers'] = (3,4,9,12)\n",
    "config['dropout'] = 0.1\n",
    "config['grid'] = (28,28)\n",
    "config[\"n_layers\"] = 12"
   ]
  },
  {
   "cell_type": "code",
   "execution_count": 6,
   "id": "b2a3a33c",
   "metadata": {},
   "outputs": [],
   "source": [
    "dataset = \"MACH-77-it3\"\n",
    "machine = \"local\"\n",
    "monitor = \"val_loss\"\n",
    "epochs = 75\n",
    "patience = 12\n",
    "batch_size = 32\n",
    "lr = 0.005\n",
    "train_augmentation_file = \"/Users/srinathramalingam/Desktop/codebase/dTurk/dTurk/augmentation/configs/light.yaml\"\n",
    "save_path = \"weights/TransUnet\"\n",
    "checkpoint_filepath = save_path + \"/checkpoint/\""
   ]
  },
  {
   "cell_type": "code",
   "execution_count": 7,
   "id": "f29cc7f0",
   "metadata": {},
   "outputs": [],
   "source": [
    "dataset_directory = os.environ.get(\"BP_PATH_REMOTE\") + \"/datasets/semseg_base\" + \"/\" + dataset"
   ]
  },
  {
   "cell_type": "code",
   "execution_count": 8,
   "id": "2ee5324a",
   "metadata": {},
   "outputs": [
    {
     "name": "stdout",
     "output_type": "stream",
     "text": [
      "Gpus not found\n"
     ]
    }
   ],
   "source": [
    "try:\n",
    "    gpus = tf.config.list_physical_devices(\"GPU\")\n",
    "    tf.config.set_visible_devices(gpus[args_dict[\"gpu\"]], \"GPU\")\n",
    "except:\n",
    "    print(\"Gpus not found\")"
   ]
  },
  {
   "cell_type": "code",
   "execution_count": 9,
   "id": "5873b2ac",
   "metadata": {},
   "outputs": [],
   "source": [
    "train_input_names = [\n",
    "    dataset_directory + \"/train_labels/\" + i\n",
    "    for i in os.listdir(dataset_directory + \"/train_labels/\")\n",
    "    if i.endswith(\".png\")\n",
    "]\n",
    "val_input_names = [\n",
    "    dataset_directory + \"/val/\" + i for i in os.listdir(dataset_directory + \"/val/\") if i.endswith(\".png\")\n",
    "]"
   ]
  },
  {
   "cell_type": "code",
   "execution_count": 10,
   "id": "dc45eb19",
   "metadata": {},
   "outputs": [
    {
     "name": "stderr",
     "output_type": "stream",
     "text": [
      "100%|████████████████████████████████████████████| 90/90 [00:00<00:00, 236.28it/s]\n",
      "/Users/srinathramalingam/opt/anaconda3/envs/bv2/lib/python3.10/site-packages/albumentations/augmentations/transforms.py:1800: FutureWarning: This class has been deprecated. Please use RandomBrightnessContrast\n",
      "  warnings.warn(\n",
      "/Users/srinathramalingam/opt/anaconda3/envs/bv2/lib/python3.10/site-packages/albumentations/augmentations/transforms.py:1826: FutureWarning: This class has been deprecated. Please use RandomBrightnessContrast\n",
      "  warnings.warn(\n",
      "2022-06-29 18:30:51.409412: I tensorflow/core/platform/cpu_feature_guard.cc:193] This TensorFlow binary is optimized with oneAPI Deep Neural Network Library (oneDNN) to use the following CPU instructions in performance-critical operations:  AVX2 FMA\n",
      "To enable them in other operations, rebuild TensorFlow with the appropriate compiler flags.\n"
     ]
    }
   ],
   "source": [
    "train_input_names = oversampling(train_input_names, machine, dataset, -1)\n",
    "train_ds_batched, val_ds_batched = create_dataset(train_input_names, val_input_names, train_augmentation=train_augmentation_file)"
   ]
  },
  {
   "cell_type": "code",
   "execution_count": 11,
   "id": "fb111b7f",
   "metadata": {},
   "outputs": [],
   "source": [
    "step_size = int(2.0 * len(train_input_names) / batch_size)"
   ]
  },
  {
   "cell_type": "code",
   "execution_count": 12,
   "id": "ddc2792b",
   "metadata": {},
   "outputs": [
    {
     "name": "stdout",
     "output_type": "stream",
     "text": [
      "ListWrapper([128, 64, 32, 16])\n"
     ]
    }
   ],
   "source": [
    "network = transunet.TransUnet(config, trainable=False)"
   ]
  },
  {
   "cell_type": "code",
   "execution_count": 13,
   "id": "ab313d95",
   "metadata": {},
   "outputs": [],
   "source": [
    "network.model.compile(optimizer=\"adam\", loss=dice_loss, metrics=mean_iou)"
   ]
  },
  {
   "cell_type": "code",
   "execution_count": 14,
   "id": "be1031eb",
   "metadata": {},
   "outputs": [],
   "source": [
    "callbacks = []\n",
    "cyclic_lr = CyclicLR(\n",
    "    base_lr=lr / 10.0,\n",
    "    max_lr=lr,\n",
    "    step_size=step_size,\n",
    "    mode=\"triangular2\",\n",
    "    cyclic_momentum=False,\n",
    "    max_momentum=False,\n",
    "    base_momentum=0.8,\n",
    ")\n",
    "callbacks.append(cyclic_lr)\n",
    "\n",
    "early_stopping = EarlyStopping(\n",
    "    monitor=monitor,\n",
    "    mode=\"min\" if \"loss\" in monitor else \"max\",\n",
    "    patience=patience,\n",
    "    verbose=1,\n",
    "    restore_best_weights=True,\n",
    ")\n",
    "callbacks.append(early_stopping)"
   ]
  },
  {
   "cell_type": "code",
   "execution_count": 15,
   "id": "3cd80180",
   "metadata": {},
   "outputs": [
    {
     "name": "stdout",
     "output_type": "stream",
     "text": [
      "Epoch 1/75\n",
      "11/11 [==============================] - 151s 13s/step - loss: 0.6339 - mean_iou: 0.4613 - val_loss: 0.6087 - val_mean_iou: 0.3513\n",
      "Epoch 2/75\n",
      "11/11 [==============================] - 169s 16s/step - loss: 0.5594 - mean_iou: 0.7422 - val_loss: 0.6495 - val_mean_iou: 0.4079\n",
      "Epoch 3/75\n",
      "11/11 [==============================] - 152s 14s/step - loss: 0.5051 - mean_iou: 0.8183 - val_loss: 0.4912 - val_mean_iou: 0.7396\n",
      "Epoch 4/75\n",
      "11/11 [==============================] - 153s 14s/step - loss: 0.4689 - mean_iou: 0.8293 - val_loss: 0.4575 - val_mean_iou: 0.7849\n",
      "Epoch 5/75\n",
      "11/11 [==============================] - 149s 14s/step - loss: 0.4379 - mean_iou: 0.8540 - val_loss: 0.4178 - val_mean_iou: 0.8641\n",
      "Epoch 6/75\n",
      "11/11 [==============================] - 147s 13s/step - loss: 0.4160 - mean_iou: 0.8622 - val_loss: 0.3994 - val_mean_iou: 0.9124\n",
      "Epoch 7/75\n",
      "11/11 [==============================] - 137s 12s/step - loss: 0.3868 - mean_iou: 0.8928 - val_loss: 0.3673 - val_mean_iou: 0.9429\n",
      "Epoch 8/75\n",
      "11/11 [==============================] - 137s 13s/step - loss: 0.3683 - mean_iou: 0.9083 - val_loss: 0.3444 - val_mean_iou: 0.9544\n",
      "Epoch 9/75\n",
      "11/11 [==============================] - 156s 14s/step - loss: 0.3572 - mean_iou: 0.9038 - val_loss: 0.3375 - val_mean_iou: 0.9466\n",
      "Epoch 10/75\n",
      "11/11 [==============================] - 140s 13s/step - loss: 0.3343 - mean_iou: 0.9253 - val_loss: 0.3207 - val_mean_iou: 0.9474\n",
      "Epoch 11/75\n",
      "11/11 [==============================] - 141s 13s/step - loss: 0.3271 - mean_iou: 0.9260 - val_loss: 0.2991 - val_mean_iou: 0.9548\n",
      "Epoch 12/75\n",
      "11/11 [==============================] - 140s 13s/step - loss: 0.3067 - mean_iou: 0.9456 - val_loss: 0.2800 - val_mean_iou: 0.9629\n",
      "Epoch 13/75\n",
      "11/11 [==============================] - 143s 13s/step - loss: 0.2931 - mean_iou: 0.9515 - val_loss: 0.2741 - val_mean_iou: 0.9642\n",
      "Epoch 14/75\n",
      "11/11 [==============================] - 139s 13s/step - loss: 0.2868 - mean_iou: 0.9469 - val_loss: 0.2832 - val_mean_iou: 0.9477\n",
      "Epoch 15/75\n",
      "11/11 [==============================] - 146s 13s/step - loss: 0.2721 - mean_iou: 0.9572 - val_loss: 0.2770 - val_mean_iou: 0.9531\n",
      "Epoch 16/75\n",
      "11/11 [==============================] - 141s 13s/step - loss: 0.2549 - mean_iou: 0.9654 - val_loss: 0.2576 - val_mean_iou: 0.9646\n",
      "Epoch 17/75\n",
      "11/11 [==============================] - 150s 14s/step - loss: 0.2445 - mean_iou: 0.9485 - val_loss: 0.2652 - val_mean_iou: 0.9535\n",
      "Epoch 18/75\n",
      "11/11 [==============================] - 135s 12s/step - loss: 0.2409 - mean_iou: 0.9567 - val_loss: 0.2216 - val_mean_iou: 0.9626\n",
      "Epoch 19/75\n",
      "11/11 [==============================] - 135s 12s/step - loss: 0.2317 - mean_iou: 0.9445 - val_loss: 0.2328 - val_mean_iou: 0.9584\n",
      "Epoch 20/75\n",
      "11/11 [==============================] - 137s 12s/step - loss: 0.2269 - mean_iou: 0.9499 - val_loss: 0.2183 - val_mean_iou: 0.9651\n",
      "Epoch 21/75\n",
      "11/11 [==============================] - 137s 12s/step - loss: 0.2079 - mean_iou: 0.9553 - val_loss: 0.2737 - val_mean_iou: 0.9436\n",
      "Epoch 22/75\n",
      "11/11 [==============================] - 157s 14s/step - loss: 0.2096 - mean_iou: 0.9595 - val_loss: 0.2201 - val_mean_iou: 0.9651\n",
      "Epoch 23/75\n",
      "11/11 [==============================] - 152s 13s/step - loss: 0.1903 - mean_iou: 0.9519 - val_loss: 0.1923 - val_mean_iou: 0.9685\n",
      "Epoch 24/75\n",
      "11/11 [==============================] - 145s 13s/step - loss: 0.1900 - mean_iou: 0.9670 - val_loss: 0.1809 - val_mean_iou: 0.9670\n",
      "Epoch 25/75\n",
      "11/11 [==============================] - 140s 13s/step - loss: 0.1735 - mean_iou: 0.9717 - val_loss: 0.1705 - val_mean_iou: 0.9654\n",
      "Epoch 26/75\n",
      "11/11 [==============================] - 142s 13s/step - loss: 0.1689 - mean_iou: 0.9731 - val_loss: 0.1665 - val_mean_iou: 0.9667\n",
      "Epoch 27/75\n",
      "11/11 [==============================] - 138s 13s/step - loss: 0.1628 - mean_iou: 0.9735 - val_loss: 0.1676 - val_mean_iou: 0.9666\n",
      "Epoch 28/75\n",
      "11/11 [==============================] - 147s 12s/step - loss: 0.1680 - mean_iou: 0.9546 - val_loss: 0.1974 - val_mean_iou: 0.9631\n",
      "Epoch 29/75\n",
      "11/11 [==============================] - 127s 12s/step - loss: 0.1534 - mean_iou: 0.9565 - val_loss: 0.1564 - val_mean_iou: 0.9683\n",
      "Epoch 30/75\n",
      "11/11 [==============================] - 123s 11s/step - loss: 0.1459 - mean_iou: 0.9576 - val_loss: 0.1554 - val_mean_iou: 0.9581\n",
      "Epoch 31/75\n",
      "11/11 [==============================] - 121s 11s/step - loss: 0.1381 - mean_iou: 0.9645 - val_loss: 0.1461 - val_mean_iou: 0.9679\n",
      "Epoch 32/75\n",
      "11/11 [==============================] - 121s 11s/step - loss: 0.1395 - mean_iou: 0.9725 - val_loss: 0.1617 - val_mean_iou: 0.9623\n",
      "Epoch 33/75\n",
      "11/11 [==============================] - 121s 11s/step - loss: 0.1243 - mean_iou: 0.9773 - val_loss: 0.1991 - val_mean_iou: 0.9205\n",
      "Epoch 34/75\n",
      "11/11 [==============================] - 123s 11s/step - loss: 0.1221 - mean_iou: 0.9734 - val_loss: 0.1279 - val_mean_iou: 0.9667\n",
      "Epoch 35/75\n",
      "11/11 [==============================] - 120s 11s/step - loss: 0.1229 - mean_iou: 0.9738 - val_loss: 0.1148 - val_mean_iou: 0.9696\n",
      "Epoch 36/75\n",
      "11/11 [==============================] - 125s 11s/step - loss: 0.1185 - mean_iou: 0.9723 - val_loss: 0.1883 - val_mean_iou: 0.9263\n",
      "Epoch 37/75\n",
      "11/11 [==============================] - 123s 11s/step - loss: 0.1318 - mean_iou: 0.9571 - val_loss: 0.1052 - val_mean_iou: 0.9662\n",
      "Epoch 38/75\n",
      "11/11 [==============================] - 125s 11s/step - loss: 0.1193 - mean_iou: 0.9567 - val_loss: 0.1185 - val_mean_iou: 0.9625\n",
      "Epoch 39/75\n",
      "11/11 [==============================] - 123s 11s/step - loss: 0.1095 - mean_iou: 0.9696 - val_loss: 0.1224 - val_mean_iou: 0.9573\n",
      "Epoch 40/75\n",
      "11/11 [==============================] - 124s 11s/step - loss: 0.1064 - mean_iou: 0.9727 - val_loss: 0.1305 - val_mean_iou: 0.9569\n",
      "Epoch 41/75\n",
      "11/11 [==============================] - 121s 11s/step - loss: 0.1124 - mean_iou: 0.9610 - val_loss: 0.1178 - val_mean_iou: 0.9681\n",
      "Epoch 42/75\n",
      "11/11 [==============================] - 122s 11s/step - loss: 0.0997 - mean_iou: 0.9744 - val_loss: 0.0973 - val_mean_iou: 0.9706\n",
      "Epoch 43/75\n",
      "11/11 [==============================] - 125s 11s/step - loss: 0.1059 - mean_iou: 0.9720 - val_loss: 0.1017 - val_mean_iou: 0.9684\n",
      "Epoch 44/75\n",
      "11/11 [==============================] - 128s 12s/step - loss: 0.0958 - mean_iou: 0.9753 - val_loss: 0.0922 - val_mean_iou: 0.9698\n",
      "Epoch 45/75\n",
      "11/11 [==============================] - 134s 12s/step - loss: 0.0981 - mean_iou: 0.9615 - val_loss: 0.0861 - val_mean_iou: 0.9699\n",
      "Epoch 46/75\n",
      "11/11 [==============================] - 129s 12s/step - loss: 0.0978 - mean_iou: 0.9676 - val_loss: 0.0948 - val_mean_iou: 0.9591\n",
      "Epoch 47/75\n",
      "11/11 [==============================] - 131s 12s/step - loss: 0.0927 - mean_iou: 0.9642 - val_loss: 0.0928 - val_mean_iou: 0.9659\n",
      "Epoch 48/75\n",
      "11/11 [==============================] - 126s 11s/step - loss: 0.0900 - mean_iou: 0.9739 - val_loss: 0.1080 - val_mean_iou: 0.9513\n",
      "Epoch 49/75\n",
      "11/11 [==============================] - 125s 11s/step - loss: 0.0943 - mean_iou: 0.9727 - val_loss: 0.1091 - val_mean_iou: 0.9593\n",
      "Epoch 50/75\n",
      "11/11 [==============================] - 127s 12s/step - loss: 0.0909 - mean_iou: 0.9700 - val_loss: 0.1148 - val_mean_iou: 0.9647\n",
      "Epoch 51/75\n",
      "11/11 [==============================] - 125s 11s/step - loss: 0.0855 - mean_iou: 0.9747 - val_loss: 0.0882 - val_mean_iou: 0.9673\n",
      "Epoch 52/75\n",
      "11/11 [==============================] - 123s 11s/step - loss: 0.0845 - mean_iou: 0.9701 - val_loss: 0.0862 - val_mean_iou: 0.9684\n",
      "Epoch 53/75\n",
      "11/11 [==============================] - 122s 11s/step - loss: 0.0922 - mean_iou: 0.9551 - val_loss: 0.0783 - val_mean_iou: 0.9685\n",
      "Epoch 54/75\n",
      "11/11 [==============================] - 126s 12s/step - loss: 0.0816 - mean_iou: 0.9722 - val_loss: 0.0738 - val_mean_iou: 0.9657\n",
      "Epoch 55/75\n",
      "11/11 [==============================] - 122s 11s/step - loss: 0.0843 - mean_iou: 0.9704 - val_loss: 0.0759 - val_mean_iou: 0.9719\n",
      "Epoch 56/75\n",
      "11/11 [==============================] - 122s 11s/step - loss: 0.0787 - mean_iou: 0.9744 - val_loss: 0.0790 - val_mean_iou: 0.9693\n",
      "Epoch 57/75\n",
      "11/11 [==============================] - 122s 11s/step - loss: 0.0756 - mean_iou: 0.9647 - val_loss: 0.0757 - val_mean_iou: 0.9703\n",
      "Epoch 58/75\n"
     ]
    },
    {
     "name": "stdout",
     "output_type": "stream",
     "text": [
      "11/11 [==============================] - 123s 11s/step - loss: 0.0791 - mean_iou: 0.9696 - val_loss: 0.0754 - val_mean_iou: 0.9682\n",
      "Epoch 59/75\n",
      "11/11 [==============================] - 122s 11s/step - loss: 0.0759 - mean_iou: 0.9719 - val_loss: 0.0740 - val_mean_iou: 0.9709\n",
      "Epoch 60/75\n",
      "11/11 [==============================] - 130s 12s/step - loss: 0.0812 - mean_iou: 0.9656 - val_loss: 0.0765 - val_mean_iou: 0.9698\n",
      "Epoch 61/75\n",
      "11/11 [==============================] - 123s 11s/step - loss: 0.0720 - mean_iou: 0.9748 - val_loss: 0.0753 - val_mean_iou: 0.9693\n",
      "Epoch 62/75\n",
      "11/11 [==============================] - 125s 11s/step - loss: 0.0723 - mean_iou: 0.9747 - val_loss: 0.0739 - val_mean_iou: 0.9700\n",
      "Epoch 63/75\n",
      "11/11 [==============================] - 122s 11s/step - loss: 0.0664 - mean_iou: 0.9780 - val_loss: 0.0701 - val_mean_iou: 0.9705\n",
      "Epoch 64/75\n",
      "11/11 [==============================] - 123s 11s/step - loss: 0.0644 - mean_iou: 0.9753 - val_loss: 0.0693 - val_mean_iou: 0.9712\n",
      "Epoch 65/75\n",
      "11/11 [==============================] - 124s 11s/step - loss: 0.0653 - mean_iou: 0.9743 - val_loss: 0.0674 - val_mean_iou: 0.9706\n",
      "Epoch 66/75\n",
      "11/11 [==============================] - 123s 11s/step - loss: 0.0680 - mean_iou: 0.9699 - val_loss: 0.0650 - val_mean_iou: 0.9708\n",
      "Epoch 67/75\n",
      "11/11 [==============================] - 125s 11s/step - loss: 0.0630 - mean_iou: 0.9639 - val_loss: 0.0641 - val_mean_iou: 0.9692\n",
      "Epoch 68/75\n",
      "11/11 [==============================] - 125s 11s/step - loss: 0.0632 - mean_iou: 0.9757 - val_loss: 0.0647 - val_mean_iou: 0.9694\n",
      "Epoch 69/75\n",
      "11/11 [==============================] - 133s 12s/step - loss: 0.0606 - mean_iou: 0.9765 - val_loss: 0.0619 - val_mean_iou: 0.9710\n",
      "Epoch 70/75\n",
      "11/11 [==============================] - 136s 12s/step - loss: 0.0636 - mean_iou: 0.9756 - val_loss: 0.0611 - val_mean_iou: 0.9719\n",
      "Epoch 71/75\n",
      "11/11 [==============================] - 130s 12s/step - loss: 0.0592 - mean_iou: 0.9732 - val_loss: 0.0618 - val_mean_iou: 0.9709\n",
      "Epoch 72/75\n",
      "11/11 [==============================] - 128s 12s/step - loss: 0.0596 - mean_iou: 0.9696 - val_loss: 0.0591 - val_mean_iou: 0.9701\n",
      "Epoch 73/75\n",
      "11/11 [==============================] - 128s 12s/step - loss: 0.0603 - mean_iou: 0.9695 - val_loss: 0.0575 - val_mean_iou: 0.9722\n",
      "Epoch 74/75\n",
      "11/11 [==============================] - 127s 12s/step - loss: 0.0618 - mean_iou: 0.9703 - val_loss: 0.0594 - val_mean_iou: 0.9677\n",
      "Epoch 75/75\n",
      "11/11 [==============================] - 126s 11s/step - loss: 0.0599 - mean_iou: 0.9735 - val_loss: 0.0581 - val_mean_iou: 0.9718\n"
     ]
    }
   ],
   "source": [
    "history = network.model.fit(\n",
    "    train_ds_batched, epochs=epochs, validation_data=val_ds_batched, callbacks=[callbacks]\n",
    ")"
   ]
  },
  {
   "cell_type": "code",
   "execution_count": 17,
   "id": "8b62bbee",
   "metadata": {},
   "outputs": [],
   "source": [
    "iou = history.history[\"mean_iou\"]\n",
    "val_iou = history.history[\"val_mean_iou\"]\n",
    "loss = history.history[\"loss\"]\n",
    "val_loss = history.history[\"val_loss\"]\n",
    "\n",
    "df = pd.DataFrame(iou)\n",
    "df.columns = [\"mean_iou\"]\n",
    "df[\"val_mean_iou\"] = val_iou\n",
    "df[\"loss\"] = loss\n",
    "df[\"val_loss\"] = val_loss\n",
    "\n",
    "df.to_csv(\"TransUnet-logs.csv\")"
   ]
  },
  {
   "cell_type": "code",
   "execution_count": 19,
   "id": "2532bcd4",
   "metadata": {},
   "outputs": [
    {
     "name": "stdout",
     "output_type": "stream",
     "text": [
      "WARNING:tensorflow:Skipping full serialization of Keras layer <keras.layers.reshaping.up_sampling2d.UpSampling2D object at 0x7fcea0c44ee0>, because it is not built.\n"
     ]
    },
    {
     "name": "stderr",
     "output_type": "stream",
     "text": [
      "WARNING:absl:Found untraced functions such as _jit_compiled_convolution_op, _jit_compiled_convolution_op, _jit_compiled_convolution_op, _jit_compiled_convolution_op, _jit_compiled_convolution_op while saving (showing 5 of 289). These functions will not be directly callable after loading.\n"
     ]
    },
    {
     "name": "stdout",
     "output_type": "stream",
     "text": [
      "INFO:tensorflow:Assets written to: weights/TransUnet/model/assets\n"
     ]
    },
    {
     "name": "stderr",
     "output_type": "stream",
     "text": [
      "INFO:tensorflow:Assets written to: weights/TransUnet/model/assets\n"
     ]
    }
   ],
   "source": [
    "network.model.load_weights(checkpoint_filepath)\n",
    "saved_model_path = save_path + \"/model\"\n",
    "network.model.save(saved_model_path)"
   ]
  },
  {
   "cell_type": "code",
   "execution_count": null,
   "id": "5966ec89",
   "metadata": {},
   "outputs": [],
   "source": []
  }
 ],
 "metadata": {
  "kernelspec": {
   "display_name": "Python 3 (ipykernel)",
   "language": "python",
   "name": "python3"
  },
  "language_info": {
   "codemirror_mode": {
    "name": "ipython",
    "version": 3
   },
   "file_extension": ".py",
   "mimetype": "text/x-python",
   "name": "python",
   "nbconvert_exporter": "python",
   "pygments_lexer": "ipython3",
   "version": "3.10.4"
  }
 },
 "nbformat": 4,
 "nbformat_minor": 5
}
