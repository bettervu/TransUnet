{
 "cells": [
  {
   "cell_type": "code",
   "execution_count": 1,
   "id": "b910c258",
   "metadata": {},
   "outputs": [],
   "source": [
    "import os\n",
    "import cv2\n",
    "import gcsfs\n",
    "import numpy as np\n",
    "import pandas as pd\n",
    "from PIL import Image\n",
    "import matplotlib.pyplot as plt\n",
    "from bp.database import db_session, Gtu\n",
    "FS = gcsfs.GCSFileSystem()"
   ]
  },
  {
   "cell_type": "code",
   "execution_count": 2,
   "id": "c7a0b774",
   "metadata": {},
   "outputs": [],
   "source": [
    "def possible_image_location(property_id, gtu_id):\n",
    "    \"\"\"deterines the ideal image location (whether or not inside gtu folder)\"\"\"\n",
    "    gtu_id_dir = f\"bvds/GTU/{property_id}/{gtu_id}/\"\n",
    "    property_id_dir = f\"bvds/GTU/{property_id}/\"\n",
    "    return gtu_id_dir, property_id_dir\n",
    "\n",
    "def open_image(gtu_id_dir: str, property_id_dir: str, reference_image: str):\n",
    "    gtu_id_dir += reference_image\n",
    "    property_id_dir += reference_image\n",
    "    try:\n",
    "        with FS.open(gtu_id_dir, \"rb\") as f:\n",
    "            img = np.array(Image.open(f))\n",
    "            return img\n",
    "    except FileNotFoundError:\n",
    "        try:\n",
    "            with FS.open(property_id_dir, \"rb\") as f:\n",
    "                img = np.array(Image.open(f))\n",
    "                return img\n",
    "        except FileNotFoundError:\n",
    "            print(\"File not in location\")"
   ]
  },
  {
   "cell_type": "code",
   "execution_count": 3,
   "id": "41769e86",
   "metadata": {},
   "outputs": [],
   "source": [
    "df = pd.read_csv(\"upload.csv\")"
   ]
  },
  {
   "cell_type": "code",
   "execution_count": 4,
   "id": "c1dd8483",
   "metadata": {},
   "outputs": [],
   "source": [
    "os.makedirs(\"Dataset\", exist_ok=True)\n",
    "os.makedirs(\"Dataset/train\", exist_ok=True)\n",
    "os.makedirs(\"Dataset/train_labels\", exist_ok=True)\n",
    "os.makedirs(\"Dataset/val\", exist_ok=True)\n",
    "os.makedirs(\"Dataset/val_labels\", exist_ok=True)"
   ]
  },
  {
   "cell_type": "code",
   "execution_count": 5,
   "id": "aa5c534c",
   "metadata": {},
   "outputs": [],
   "source": [
    "length = len(df)"
   ]
  },
  {
   "cell_type": "code",
   "execution_count": 6,
   "id": "1ab11521",
   "metadata": {},
   "outputs": [],
   "source": [
    "for gtu_id in df[\"gtu_ids\"][:int(0.8*length)]:\n",
    "    with db_session() as sess:\n",
    "        ppid = sess.query(Gtu.property_id).filter(Gtu.id == gtu_id).first()[0]\n",
    "    gtu_id_dir, property_id_dir = possible_image_location(property_id=ppid, gtu_id=gtu_id)\n",
    "    image = open_image(gtu_id_dir, property_id_dir, \"image.jpg\")\n",
    "    image = cv2.resize(image, (256,256))\n",
    "    mask = open_image(gtu_id_dir, property_id_dir, \"layer.Property.png\")\n",
    "    mask = cv2.resize(mask, (256,256))\n",
    "    plt.imsave(f\"Dataset/train/{gtu_id}.png\", image)\n",
    "    cv2.imwrite(f\"Dataset/train_labels/{gtu_id}.png\", mask)"
   ]
  },
  {
   "cell_type": "code",
   "execution_count": 7,
   "id": "293b02aa",
   "metadata": {},
   "outputs": [],
   "source": [
    "for gtu_id in df[\"gtu_ids\"][int(0.8*length):]:\n",
    "    with db_session() as sess:\n",
    "        ppid = sess.query(Gtu.property_id).filter(Gtu.id == gtu_id).first()[0]\n",
    "    gtu_id_dir, property_id_dir = possible_image_location(property_id=ppid, gtu_id=gtu_id)\n",
    "    image = open_image(gtu_id_dir, property_id_dir, \"image.jpg\")\n",
    "    image = cv2.resize(image, (256,256))\n",
    "    mask = open_image(gtu_id_dir, property_id_dir, \"layer.Property.png\")\n",
    "    mask = cv2.resize(mask, (256,256))\n",
    "    plt.imsave(f\"Dataset/val/{gtu_id}.png\", image)\n",
    "    cv2.imwrite(f\"Dataset/val_labels/{gtu_id}.png\", mask)"
   ]
  },
  {
   "cell_type": "code",
   "execution_count": null,
   "id": "e62a44d1",
   "metadata": {},
   "outputs": [],
   "source": []
  }
 ],
 "metadata": {
  "kernelspec": {
   "display_name": "Python 3 (ipykernel)",
   "language": "python",
   "name": "python3"
  },
  "language_info": {
   "codemirror_mode": {
    "name": "ipython",
    "version": 3
   },
   "file_extension": ".py",
   "mimetype": "text/x-python",
   "name": "python",
   "nbconvert_exporter": "python",
   "pygments_lexer": "ipython3",
   "version": "3.10.4"
  }
 },
 "nbformat": 4,
 "nbformat_minor": 5
}
